{
 "cells": [
  {
   "cell_type": "code",
   "execution_count": 1,
   "id": "13ba755e-82f6-447c-9e50-3a6d0ef9d971",
   "metadata": {},
   "outputs": [],
   "source": [
    "import pandas as pd\n",
    "import numpy as np\n",
    "import matplotlib.pyplot as plt\n",
    "import seaborn as sns\n",
    "from sklearn.feature_extraction.text import CountVectorizer, TfidfVectorizer\n",
    "from sklearn.preprocessing import LabelEncoder\n",
    "from sklearn.metrics import accuracy_score, precision_score, recall_score, f1_score, confusion_matrix, classification_report\n",
    "from sklearn.naive_bayes import MultinomialNB\n",
    "from sklearn.linear_model import LogisticRegression\n",
    "from sklearn.svm import SVC\n",
    "from sklearn.ensemble import RandomForestClassifier, GradientBoostingClassifier\n",
    "from sklearn.pipeline import Pipeline\n",
    "import nltk\n",
    "from nltk.corpus import stopwords\n",
    "from nltk.tokenize import word_tokenize\n",
    "from nltk.stem import WordNetLemmatizer"
   ]
  },
  {
   "cell_type": "code",
   "execution_count": 2,
   "id": "09e308eb-4bb9-4e9b-86e0-ce395052b97f",
   "metadata": {},
   "outputs": [
    {
     "name": "stderr",
     "output_type": "stream",
     "text": [
      "[nltk_data] Downloading package punkt to\n",
      "[nltk_data]     C:\\Users\\DELL\\AppData\\Roaming\\nltk_data...\n",
      "[nltk_data]   Package punkt is already up-to-date!\n",
      "[nltk_data] Downloading package stopwords to\n",
      "[nltk_data]     C:\\Users\\DELL\\AppData\\Roaming\\nltk_data...\n",
      "[nltk_data]   Package stopwords is already up-to-date!\n",
      "[nltk_data] Downloading package wordnet to\n",
      "[nltk_data]     C:\\Users\\DELL\\AppData\\Roaming\\nltk_data...\n",
      "[nltk_data]   Package wordnet is already up-to-date!\n"
     ]
    },
    {
     "data": {
      "text/plain": [
       "True"
      ]
     },
     "execution_count": 2,
     "metadata": {},
     "output_type": "execute_result"
    }
   ],
   "source": [
    "# Download required NLTK data\n",
    "nltk.download('punkt')\n",
    "nltk.download('stopwords')\n",
    "nltk.download('wordnet')"
   ]
  },
  {
   "cell_type": "code",
   "execution_count": 3,
   "id": "70ab86fc-42a7-4cfa-a14d-849e906e7519",
   "metadata": {},
   "outputs": [],
   "source": [
    "# Load the datasets\n",
    "train_df = pd.read_csv('twitter_training.csv')\n",
    "valid_df = pd.read_csv('twitter_validation.csv')"
   ]
  },
  {
   "cell_type": "code",
   "execution_count": 4,
   "id": "053a5407-9e91-4665-ae28-0ce797ba9513",
   "metadata": {},
   "outputs": [],
   "source": [
    "# Drop rows with NaN or missing values\n",
    "train_df.dropna(inplace=True)\n",
    "valid_df.dropna(inplace=True)\n",
    "\n",
    "# Rename columns for easier access\n",
    "train_df.columns = ['id', 'topic', 'sentiment', 'text']\n",
    "valid_df.columns = ['id', 'topic', 'sentiment', 'text']\n",
    "\n",
    "# Data Preprocessing function\n",
    "def preprocess_text(text):\n",
    "    if isinstance(text, str):\n",
    "        # Tokenization\n",
    "        tokens = word_tokenize(text)\n",
    "        # Lowercasing\n",
    "        tokens = [word.lower() for word in tokens]\n",
    "        # Removing stopwords\n",
    "        tokens = [word for word in tokens if word not in stopwords.words('english')]\n",
    "        # Lemmatization\n",
    "        lemmatizer = WordNetLemmatizer()\n",
    "        tokens = [lemmatizer.lemmatize(word) for word in tokens]\n",
    "        # Join tokens back to string\n",
    "        return ' '.join(tokens)\n",
    "    else:\n",
    "        return ''\n",
    "\n",
    "# Apply preprocessing\n",
    "train_df['text'] = train_df['text'].apply(preprocess_text)\n",
    "valid_df['text'] = valid_df['text'].apply(preprocess_text)\n",
    "\n",
    "# Encode labels\n",
    "label_encoder = LabelEncoder()\n",
    "train_df['sentiment'] = label_encoder.fit_transform(train_df['sentiment'])\n",
    "valid_df['sentiment'] = label_encoder.transform(valid_df['sentiment'])"
   ]
  },
  {
   "cell_type": "code",
   "execution_count": 5,
   "id": "3bc65366-ec85-41c1-9595-b7b7dbb94f93",
   "metadata": {},
   "outputs": [],
   "source": [
    "# Features and Labels\n",
    "X_train, y_train = train_df['text'], train_df['sentiment']\n",
    "X_valid, y_valid = valid_df['text'], valid_df['sentiment']\n",
    "\n",
    "# Initialize results list\n",
    "results = []\n"
   ]
  },
  {
   "cell_type": "code",
   "execution_count": 6,
   "id": "9b2f1378-220f-4971-a810-064406f6d557",
   "metadata": {},
   "outputs": [],
   "source": [
    "# Naive Bayes with BoW\n",
    "pipeline = Pipeline([\n",
    "    ('BoW', CountVectorizer()),\n",
    "    ('Naive Bayes', MultinomialNB())\n",
    "])\n",
    "pipeline.fit(X_train, y_train)\n",
    "y_pred = pipeline.predict(X_valid)\n",
    "accuracy = accuracy_score(y_valid, y_pred)\n",
    "precision = precision_score(y_valid, y_pred, average='weighted')\n",
    "recall = recall_score(y_valid, y_pred, average='weighted')\n",
    "f1 = f1_score(y_valid, y_pred, average='weighted')\n",
    "results.append({\n",
    "    'vectorizer': 'BoW',\n",
    "    'model': 'Naive Bayes',\n",
    "    'accuracy': accuracy,\n",
    "    'precision': precision,\n",
    "    'recall': recall,\n",
    "    'f1': f1,\n",
    "    'y_predict':y_pred\n",
    "})"
   ]
  },
  {
   "cell_type": "code",
   "execution_count": 7,
   "id": "e86c3679-226c-4f86-8cc4-22d914bf98f0",
   "metadata": {},
   "outputs": [],
   "source": [
    "# Naive Bayes with TF-IDF\n",
    "pipeline = Pipeline([\n",
    "    ('TF-IDF', TfidfVectorizer()),\n",
    "    ('Naive Bayes', MultinomialNB())\n",
    "])\n",
    "pipeline.fit(X_train, y_train)\n",
    "y_pred = pipeline.predict(X_valid)\n",
    "accuracy = accuracy_score(y_valid, y_pred)\n",
    "precision = precision_score(y_valid, y_pred, average='weighted')\n",
    "recall = recall_score(y_valid, y_pred, average='weighted')\n",
    "f1 = f1_score(y_valid, y_pred, average='weighted')\n",
    "results.append({\n",
    "    'vectorizer': 'TF-IDF',\n",
    "    'model': 'Naive Bayes',\n",
    "    'accuracy': accuracy,\n",
    "    'precision': precision,\n",
    "    'recall': recall,\n",
    "    'f1': f1,\n",
    "    'y_predict':y_pred\n",
    "})\n"
   ]
  },
  {
   "cell_type": "code",
   "execution_count": 8,
   "id": "6c6b4ff6-e166-485c-99c7-493d2ba869d8",
   "metadata": {},
   "outputs": [
    {
     "name": "stderr",
     "output_type": "stream",
     "text": [
      "d:\\anaconda3\\envs\\work\\Lib\\site-packages\\sklearn\\linear_model\\_logistic.py:469: ConvergenceWarning: lbfgs failed to converge (status=1):\n",
      "STOP: TOTAL NO. of ITERATIONS REACHED LIMIT.\n",
      "\n",
      "Increase the number of iterations (max_iter) or scale the data as shown in:\n",
      "    https://scikit-learn.org/stable/modules/preprocessing.html\n",
      "Please also refer to the documentation for alternative solver options:\n",
      "    https://scikit-learn.org/stable/modules/linear_model.html#logistic-regression\n",
      "  n_iter_i = _check_optimize_result(\n"
     ]
    }
   ],
   "source": [
    "# Logistic Regression with BoW\n",
    "pipeline = Pipeline([\n",
    "    ('BoW', CountVectorizer()),\n",
    "    ('Logistic Regression', LogisticRegression(max_iter=200))\n",
    "])\n",
    "pipeline.fit(X_train, y_train)\n",
    "y_pred = pipeline.predict(X_valid)\n",
    "accuracy = accuracy_score(y_valid, y_pred)\n",
    "precision = precision_score(y_valid, y_pred, average='weighted')\n",
    "recall = recall_score(y_valid, y_pred, average='weighted')\n",
    "f1 = f1_score(y_valid, y_pred, average='weighted')\n",
    "results.append({\n",
    "    'vectorizer': 'BoW',\n",
    "    'model': 'Logistic Regression',\n",
    "    'accuracy': accuracy,\n",
    "    'precision': precision,\n",
    "    'recall': recall,\n",
    "    'f1': f1,\n",
    "    'y_predict':y_pred\n",
    "})\n"
   ]
  },
  {
   "cell_type": "code",
   "execution_count": 9,
   "id": "b88b4a74-b0bb-4164-a4d9-d30693f19893",
   "metadata": {},
   "outputs": [],
   "source": [
    "# Logistic Regression with TF-IDF\n",
    "pipeline = Pipeline([\n",
    "    ('TF-IDF', TfidfVectorizer()),\n",
    "    ('Logistic Regression', LogisticRegression(max_iter=200))\n",
    "])\n",
    "pipeline.fit(X_train, y_train)\n",
    "y_pred = pipeline.predict(X_valid)\n",
    "accuracy = accuracy_score(y_valid, y_pred)\n",
    "precision = precision_score(y_valid, y_pred, average='weighted')\n",
    "recall = recall_score(y_valid, y_pred, average='weighted')\n",
    "f1 = f1_score(y_valid, y_pred, average='weighted')\n",
    "results.append({\n",
    "    'vectorizer': 'TF-IDF',\n",
    "    'model': 'Logistic Regression',\n",
    "    'accuracy': accuracy,\n",
    "    'precision': precision,\n",
    "    'recall': recall,\n",
    "    'f1': f1,\n",
    "    'y_predict':y_pred\n",
    "})\n"
   ]
  },
  {
   "cell_type": "code",
   "execution_count": null,
   "id": "3c64ca70-951c-4834-997f-12bda66099ff",
   "metadata": {},
   "outputs": [],
   "source": [
    "# SVM with BoW\n",
    "pipeline = Pipeline([\n",
    "    ('BoW', CountVectorizer()),\n",
    "    ('SVM', SVC())\n",
    "])\n",
    "pipeline.fit(X_train, y_train)\n",
    "y_pred = pipeline.predict(X_valid)\n",
    "accuracy = accuracy_score(y_valid, y_pred)\n",
    "precision = precision_score(y_valid, y_pred, average='weighted')\n",
    "recall = recall_score(y_valid, y_pred, average='weighted')\n",
    "f1 = f1_score(y_valid, y_pred, average='weighted')\n",
    "results.append({\n",
    "    'vectorizer': 'BoW',\n",
    "    'model': 'SVM',\n",
    "    'accuracy': accuracy,\n",
    "    'precision': precision,\n",
    "    'recall': recall,\n",
    "    'f1': f1,\n",
    "    'y_predict':y_pred\n",
    "})"
   ]
  },
  {
   "cell_type": "code",
   "execution_count": 19,
   "id": "dc14bd87-9da0-4670-a5d1-31958220dae0",
   "metadata": {},
   "outputs": [],
   "source": [
    "# SVM with TF-IDF\n",
    "pipeline = Pipeline([\n",
    "    ('TF-IDF', TfidfVectorizer()),\n",
    "    ('SVM', SVC())\n",
    "])\n",
    "pipeline.fit(X_train, y_train)\n",
    "y_pred = pipeline.predict(X_valid)\n",
    "accuracy = accuracy_score(y_valid, y_pred)\n",
    "precision = precision_score(y_valid, y_pred, average='weighted')\n",
    "recall = recall_score(y_valid, y_pred, average='weighted')\n",
    "f1 = f1_score(y_valid, y_pred, average='weighted')\n",
    "results.append({\n",
    "    'vectorizer': 'TF-IDF',\n",
    "    'model': 'SVM',\n",
    "    'accuracy': accuracy,\n",
    "    'precision': precision,\n",
    "    'recall': recall,\n",
    "    'f1': f1,\n",
    "    'y_predict':y_pred\n",
    "})"
   ]
  },
  {
   "cell_type": "code",
   "execution_count": 12,
   "id": "c470f610-07e8-4c46-b8a6-17603dc07db6",
   "metadata": {},
   "outputs": [],
   "source": [
    "# Random Forest with BoW\n",
    "pipeline = Pipeline([\n",
    "    ('BoW', CountVectorizer()),\n",
    "    ('Random Forest', RandomForestClassifier())\n",
    "])\n",
    "pipeline.fit(X_train, y_train)\n",
    "y_pred = pipeline.predict(X_valid)\n",
    "accuracy = accuracy_score(y_valid, y_pred)\n",
    "precision = precision_score(y_valid, y_pred, average='weighted')\n",
    "recall = recall_score(y_valid, y_pred, average='weighted')\n",
    "f1 = f1_score(y_valid, y_pred, average='weighted')\n",
    "results.append({\n",
    "    'vectorizer': 'BoW',\n",
    "    'model': 'Random Forest',\n",
    "    'accuracy': accuracy,\n",
    "    'precision': precision,\n",
    "    'recall': recall,\n",
    "    'f1': f1,\n",
    "    'y_predict':y_pred\n",
    "})\n"
   ]
  },
  {
   "cell_type": "code",
   "execution_count": 23,
   "id": "924ee348-bc30-4fd3-b58b-d7f4e0c71c0e",
   "metadata": {},
   "outputs": [
    {
     "name": "stdout",
     "output_type": "stream",
     "text": [
      "[{'vectorizer': 'BoW', 'model': 'Naive Bayes', 'accuracy': 0.8218218218218218, 'precision': 0.8323964813249712, 'recall': 0.8218218218218218, 'f1': 0.8209080112851053}, {'vectorizer': 'TF-IDF', 'model': 'Naive Bayes', 'accuracy': 0.8098098098098098, 'precision': 0.8359363342011557, 'recall': 0.8098098098098098, 'f1': 0.8078190632487383}, {'vectorizer': 'BoW', 'model': 'Logistic Regression', 'accuracy': 0.9479479479479479, 'precision': 0.9481848432997217, 'recall': 0.9479479479479479, 'f1': 0.9479931781970813}, {'vectorizer': 'TF-IDF', 'model': 'Logistic Regression', 'accuracy': 0.9219219219219219, 'precision': 0.9224593606451168, 'recall': 0.9219219219219219, 'f1': 0.9218692335417593}, {'vectorizer': 'BoW', 'model': 'Random Forest', 'accuracy': 0.960960960960961, 'precision': 0.9613602778020962, 'recall': 0.960960960960961, 'f1': 0.9609383637906737}, {'vectorizer': 'TF-IDF', 'model': 'Random Forest', 'accuracy': 0.94994994994995, 'precision': 0.9505771880392874, 'recall': 0.94994994994995, 'f1': 0.9497971621646532}, {'vectorizer': 'BoW', 'model': 'Gradient Boosting', 'accuracy': 0.5805805805805806, 'precision': 0.6370088652433372, 'recall': 0.5805805805805806, 'f1': 0.5659448249382528}, {'vectorizer': 'TF-IDF', 'model': 'Gradient Boosting', 'accuracy': 0.5805805805805806, 'precision': 0.6379023498054054, 'recall': 0.5805805805805806, 'f1': 0.5685335592841466}, {'vectorizer': 'TF-IDF', 'model': 'SVM', 'accuracy': 0.9769769769769769, 'precision': 0.9769863675524052, 'recall': 0.9769769769769769, 'f1': 0.9769798888502323}]\n",
      "SVM\n",
      "TfidfVectorizer()\n",
      "              precision    recall  f1-score   support\n",
      "\n",
      "  Irrelevant       0.98      0.98      0.98       171\n",
      "    Negative       0.98      0.98      0.98       266\n",
      "     Neutral       0.98      0.98      0.98       285\n",
      "    Positive       0.97      0.97      0.97       277\n",
      "\n",
      "    accuracy                           0.98       999\n",
      "   macro avg       0.98      0.98      0.98       999\n",
      "weighted avg       0.98      0.98      0.98       999\n",
      "\n"
     ]
    },
    {
     "ename": "NameError",
     "evalue": "name 'PdfPages' is not defined",
     "output_type": "error",
     "traceback": [
      "\u001b[1;31m---------------------------------------------------------------------------\u001b[0m",
      "\u001b[1;31mNameError\u001b[0m                                 Traceback (most recent call last)",
      "Cell \u001b[1;32mIn[23], line 56\u001b[0m\n\u001b[0;32m     53\u001b[0m plt\u001b[38;5;241m.\u001b[39mtitle(\u001b[38;5;124m'\u001b[39m\u001b[38;5;124mConfusion Matrix\u001b[39m\u001b[38;5;124m'\u001b[39m)\n\u001b[0;32m     55\u001b[0m \u001b[38;5;66;03m# Save confusion matrix as PDF\u001b[39;00m\n\u001b[1;32m---> 56\u001b[0m pdf \u001b[38;5;241m=\u001b[39m PdfPages(\u001b[38;5;124m'\u001b[39m\u001b[38;5;124mconfusion_matrix.pdf\u001b[39m\u001b[38;5;124m'\u001b[39m)\n\u001b[0;32m     57\u001b[0m pdf\u001b[38;5;241m.\u001b[39msavefig()\n\u001b[0;32m     58\u001b[0m pdf\u001b[38;5;241m.\u001b[39mclose()\n",
      "\u001b[1;31mNameError\u001b[0m: name 'PdfPages' is not defined"
     ]
    },
    {
     "data": {
      "image/png": "[encoded data removed]",
      "text/plain": [
       "<Figure size 1000x700 with 2 Axes>"
      ]
     },
     "metadata": {},
     "output_type": "display_data"
    }
   ],
   "source": [
    "print(results)\n",
    "# Convert results to DataFrame\n",
    "results_df = pd.DataFrame(results)\n",
    "\n",
    "models = {\n",
    "    'Naive Bayes': MultinomialNB(),\n",
    "    'Logistic Regression': LogisticRegression(max_iter=200),\n",
    "    'SVM': SVC(),\n",
    "    'Random Forest': RandomForestClassifier(),\n",
    "    'Gradient Boosting': GradientBoostingClassifier()\n",
    "}\n",
    "\n",
    "\n",
    "# Identify the best model and feature engineering method\n",
    "best_result = results_df.loc[results_df['f1'].idxmax()]\n",
    "\n",
    "# Extract best model and feature engineering method\n",
    "best_vectorizer_name = best_result['vectorizer']\n",
    "best_model_name = best_result['model']\n",
    "print (best_model_name)\n",
    "# Train the best model with the best feature engineering method\n",
    "best_vectorizer = TfidfVectorizer() if best_vectorizer_name == 'TF-IDF' else CountVectorizer()\n",
    "print (best_vectorizer)\n",
    "best_model = models[best_model_name]\n",
    "\n",
    "pipeline = Pipeline([\n",
    "    (best_vectorizer_name, best_vectorizer),\n",
    "    (best_model_name, best_model)\n",
    "])\n",
    "\n",
    "pipeline.fit(X_train, y_train)\n",
    "# y_pred = pipeline.predict(X_valid)\n",
    "\n",
    "# # Calculate final metrics\n",
    "# accuracy = accuracy_score(y_valid, y_pred)\n",
    "# precision = precision_score(y_valid, y_pred, average='weighted')\n",
    "# recall = recall_score(y_valid, y_pred, average='weighted')\n",
    "# f1 = f1_score(y_valid, y_pred, average='weighted')\n",
    "\n",
    "# # Print classification report\n",
    "# classification_report_final = classification_report(y_valid, y_pred, target_names=label_encoder.classes_)\n",
    "# print(classification_report_final)\n",
    "\n",
    "\n",
    "# # Calculate confusion matrix\n",
    "# conf_matrix = confusion_matrix(y_valid, y_pred)\n",
    "\n",
    "# # Plot confusion matrix\n",
    "# plt.figure(figsize=(10, 7))\n",
    "# sns.heatmap(conf_matrix, annot=True, fmt='d', cmap='Blues', xticklabels=label_encoder.classes_, yticklabels=label_encoder.classes_)\n",
    "# plt.xlabel('Predicted')\n",
    "# plt.ylabel('Actual')\n",
    "# plt.title('Confusion Matrix')\n",
    "\n",
    "# # Save confusion matrix as PDF\n",
    "# plt.savefig()\n",
    "# plt.close()\n"
   ]
  },
  {
   "cell_type": "code",
   "execution_count": 29,
   "id": "4b564c45-6ad7-48aa-b6ab-a08d59b94a69",
   "metadata": {},
   "outputs": [
    {
     "name": "stdout",
     "output_type": "stream",
     "text": [
      "              precision    recall  f1-score   support\n",
      "\n",
      "  Irrelevant       0.98      0.98      0.98       171\n",
      "    Negative       0.98      0.98      0.98       266\n",
      "     Neutral       0.98      0.98      0.98       285\n",
      "    Positive       0.97      0.97      0.97       277\n",
      "\n",
      "    accuracy                           0.98       999\n",
      "   macro avg       0.98      0.98      0.98       999\n",
      "weighted avg       0.98      0.98      0.98       999\n",
      "\n"
     ]
    },
    {
     "data": {
      "image/png": "[encoded data removed]",
      "text/plain": [
       "<Figure size 1000x700 with 2 Axes>"
      ]
     },
     "metadata": {},
     "output_type": "display_data"
    }
   ],
   "source": [
    "y_pred = pipeline.predict(X_valid)\n",
    "\n",
    "# Calculate final metrics\n",
    "accuracy = accuracy_score(y_valid, y_pred)\n",
    "precision = precision_score(y_valid, y_pred, average='weighted')\n",
    "recall = recall_score(y_valid, y_pred, average='weighted')\n",
    "f1 = f1_score(y_valid, y_pred, average='weighted')\n",
    "\n",
    "# Print classification report\n",
    "classification_report_final = classification_report(y_valid, y_pred, target_names=label_encoder.classes_)\n",
    "print(classification_report_final)\n",
    "\n",
    "\n",
    "# Calculate confusion matrix\n",
    "conf_matrix = confusion_matrix(y_valid, y_pred)\n",
    "\n",
    "# Plot confusion matrix\n",
    "plt.figure(figsize=(10, 7))\n",
    "sns.heatmap(conf_matrix, annot=True, fmt='d', cmap='Blues', xticklabels=label_encoder.classes_, yticklabels=label_encoder.classes_)\n",
    "plt.xlabel('Predicted')\n",
    "plt.ylabel('Actual')\n",
    "plt.title('Confusion Matrix')\n",
    "\n",
    "plt.savefig(\"CM_svm_itfdf.pdf\",format=\"pdf\")\n",
    "plt.show()\n"
   ]
  }
 ],
 "metadata": {
  "kernelspec": {
   "display_name": "Python 3 (ipykernel)",
   "language": "python",
   "name": "python3"
  },
  "language_info": {
   "codemirror_mode": {
    "name": "ipython",
    "version": 3
   },
   "file_extension": ".py",
   "mimetype": "text/x-python",
   "name": "python",
   "nbconvert_exporter": "python",
   "pygments_lexer": "ipython3",
   "version": "3.11.9"
  }
 },
 "nbformat": 4,
 "nbformat_minor": 5
}
